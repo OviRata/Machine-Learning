{
  "cells": [
    {
      "cell_type": "markdown",
      "metadata": {
        "id": "view-in-github",
        "colab_type": "text"
      },
      "source": [
        "<a href=\"https://colab.research.google.com/github/OviRata/Machine-Learning/blob/main/Applying_KNN_on_a_Telecom_dataset.ipynb\" target=\"_parent\"><img src=\"https://colab.research.google.com/assets/colab-badge.svg\" alt=\"Open In Colab\"/></a>"
      ]
    },
    {
      "cell_type": "markdown",
      "id": "b92e8c77",
      "metadata": {
        "id": "b92e8c77"
      },
      "source": [
        "**Loading the dataset.**"
      ]
    },
    {
      "cell_type": "code",
      "execution_count": 1,
      "id": "cb4197d6",
      "metadata": {
        "colab": {
          "base_uri": "https://localhost:8080/"
        },
        "id": "cb4197d6",
        "outputId": "6c582d17-f31c-48f8-b5d6-017e2e05532d"
      },
      "outputs": [
        {
          "output_type": "stream",
          "name": "stdout",
          "text": [
            "  % Total    % Received % Xferd  Average Speed   Time    Time     Time  Current\n",
            "                                 Dload  Upload   Total   Spent    Left  Speed\n",
            "  0     0    0     0    0     0      0      0 --:--:-- --:--:-- --:--:--     0\n",
            "100  273k  100  273k    0     0   560k      0 --:--:-- --:--:-- --:--:--  560k\n"
          ]
        }
      ],
      "source": [
        "!mkdir data && curl -o data/telecom_churn.csv -LJO https://github.com/dianaartiom/machine_learning_with_python/raw/main/lesson04/notebooks/data/telecom_churn.csv"
      ]
    },
    {
      "cell_type": "code",
      "execution_count": 2,
      "id": "6cae7b56",
      "metadata": {
        "colab": {
          "base_uri": "https://localhost:8080/",
          "height": 305
        },
        "id": "6cae7b56",
        "outputId": "926ce538-107d-4b06-8d5f-38ea76a4bdb8"
      },
      "outputs": [
        {
          "output_type": "execute_result",
          "data": {
            "text/plain": [
              "  State  Account length  Area code International plan Voice mail plan  \\\n",
              "0    KS             128        415                 No             Yes   \n",
              "1    OH             107        415                 No             Yes   \n",
              "2    NJ             137        415                 No              No   \n",
              "3    OH              84        408                Yes              No   \n",
              "4    OK              75        415                Yes              No   \n",
              "\n",
              "   Number vmail messages  Total day minutes  Total day calls  \\\n",
              "0                     25              265.1              110   \n",
              "1                     26              161.6              123   \n",
              "2                      0              243.4              114   \n",
              "3                      0              299.4               71   \n",
              "4                      0              166.7              113   \n",
              "\n",
              "   Total day charge  Total eve minutes  Total eve calls  Total eve charge  \\\n",
              "0             45.07              197.4               99             16.78   \n",
              "1             27.47              195.5              103             16.62   \n",
              "2             41.38              121.2              110             10.30   \n",
              "3             50.90               61.9               88              5.26   \n",
              "4             28.34              148.3              122             12.61   \n",
              "\n",
              "   Total night minutes  Total night calls  Total night charge  \\\n",
              "0                244.7                 91               11.01   \n",
              "1                254.4                103               11.45   \n",
              "2                162.6                104                7.32   \n",
              "3                196.9                 89                8.86   \n",
              "4                186.9                121                8.41   \n",
              "\n",
              "   Total intl minutes  Total intl calls  Total intl charge  \\\n",
              "0                10.0                 3               2.70   \n",
              "1                13.7                 3               3.70   \n",
              "2                12.2                 5               3.29   \n",
              "3                 6.6                 7               1.78   \n",
              "4                10.1                 3               2.73   \n",
              "\n",
              "   Customer service calls  Churn  \n",
              "0                       1  False  \n",
              "1                       1  False  \n",
              "2                       0  False  \n",
              "3                       2  False  \n",
              "4                       3  False  "
            ],
            "text/html": [
              "\n",
              "  <div id=\"df-2f66b38a-e7e5-48c8-bf25-641071202950\">\n",
              "    <div class=\"colab-df-container\">\n",
              "      <div>\n",
              "<style scoped>\n",
              "    .dataframe tbody tr th:only-of-type {\n",
              "        vertical-align: middle;\n",
              "    }\n",
              "\n",
              "    .dataframe tbody tr th {\n",
              "        vertical-align: top;\n",
              "    }\n",
              "\n",
              "    .dataframe thead th {\n",
              "        text-align: right;\n",
              "    }\n",
              "</style>\n",
              "<table border=\"1\" class=\"dataframe\">\n",
              "  <thead>\n",
              "    <tr style=\"text-align: right;\">\n",
              "      <th></th>\n",
              "      <th>State</th>\n",
              "      <th>Account length</th>\n",
              "      <th>Area code</th>\n",
              "      <th>International plan</th>\n",
              "      <th>Voice mail plan</th>\n",
              "      <th>Number vmail messages</th>\n",
              "      <th>Total day minutes</th>\n",
              "      <th>Total day calls</th>\n",
              "      <th>Total day charge</th>\n",
              "      <th>Total eve minutes</th>\n",
              "      <th>Total eve calls</th>\n",
              "      <th>Total eve charge</th>\n",
              "      <th>Total night minutes</th>\n",
              "      <th>Total night calls</th>\n",
              "      <th>Total night charge</th>\n",
              "      <th>Total intl minutes</th>\n",
              "      <th>Total intl calls</th>\n",
              "      <th>Total intl charge</th>\n",
              "      <th>Customer service calls</th>\n",
              "      <th>Churn</th>\n",
              "    </tr>\n",
              "  </thead>\n",
              "  <tbody>\n",
              "    <tr>\n",
              "      <th>0</th>\n",
              "      <td>KS</td>\n",
              "      <td>128</td>\n",
              "      <td>415</td>\n",
              "      <td>No</td>\n",
              "      <td>Yes</td>\n",
              "      <td>25</td>\n",
              "      <td>265.1</td>\n",
              "      <td>110</td>\n",
              "      <td>45.07</td>\n",
              "      <td>197.4</td>\n",
              "      <td>99</td>\n",
              "      <td>16.78</td>\n",
              "      <td>244.7</td>\n",
              "      <td>91</td>\n",
              "      <td>11.01</td>\n",
              "      <td>10.0</td>\n",
              "      <td>3</td>\n",
              "      <td>2.70</td>\n",
              "      <td>1</td>\n",
              "      <td>False</td>\n",
              "    </tr>\n",
              "    <tr>\n",
              "      <th>1</th>\n",
              "      <td>OH</td>\n",
              "      <td>107</td>\n",
              "      <td>415</td>\n",
              "      <td>No</td>\n",
              "      <td>Yes</td>\n",
              "      <td>26</td>\n",
              "      <td>161.6</td>\n",
              "      <td>123</td>\n",
              "      <td>27.47</td>\n",
              "      <td>195.5</td>\n",
              "      <td>103</td>\n",
              "      <td>16.62</td>\n",
              "      <td>254.4</td>\n",
              "      <td>103</td>\n",
              "      <td>11.45</td>\n",
              "      <td>13.7</td>\n",
              "      <td>3</td>\n",
              "      <td>3.70</td>\n",
              "      <td>1</td>\n",
              "      <td>False</td>\n",
              "    </tr>\n",
              "    <tr>\n",
              "      <th>2</th>\n",
              "      <td>NJ</td>\n",
              "      <td>137</td>\n",
              "      <td>415</td>\n",
              "      <td>No</td>\n",
              "      <td>No</td>\n",
              "      <td>0</td>\n",
              "      <td>243.4</td>\n",
              "      <td>114</td>\n",
              "      <td>41.38</td>\n",
              "      <td>121.2</td>\n",
              "      <td>110</td>\n",
              "      <td>10.30</td>\n",
              "      <td>162.6</td>\n",
              "      <td>104</td>\n",
              "      <td>7.32</td>\n",
              "      <td>12.2</td>\n",
              "      <td>5</td>\n",
              "      <td>3.29</td>\n",
              "      <td>0</td>\n",
              "      <td>False</td>\n",
              "    </tr>\n",
              "    <tr>\n",
              "      <th>3</th>\n",
              "      <td>OH</td>\n",
              "      <td>84</td>\n",
              "      <td>408</td>\n",
              "      <td>Yes</td>\n",
              "      <td>No</td>\n",
              "      <td>0</td>\n",
              "      <td>299.4</td>\n",
              "      <td>71</td>\n",
              "      <td>50.90</td>\n",
              "      <td>61.9</td>\n",
              "      <td>88</td>\n",
              "      <td>5.26</td>\n",
              "      <td>196.9</td>\n",
              "      <td>89</td>\n",
              "      <td>8.86</td>\n",
              "      <td>6.6</td>\n",
              "      <td>7</td>\n",
              "      <td>1.78</td>\n",
              "      <td>2</td>\n",
              "      <td>False</td>\n",
              "    </tr>\n",
              "    <tr>\n",
              "      <th>4</th>\n",
              "      <td>OK</td>\n",
              "      <td>75</td>\n",
              "      <td>415</td>\n",
              "      <td>Yes</td>\n",
              "      <td>No</td>\n",
              "      <td>0</td>\n",
              "      <td>166.7</td>\n",
              "      <td>113</td>\n",
              "      <td>28.34</td>\n",
              "      <td>148.3</td>\n",
              "      <td>122</td>\n",
              "      <td>12.61</td>\n",
              "      <td>186.9</td>\n",
              "      <td>121</td>\n",
              "      <td>8.41</td>\n",
              "      <td>10.1</td>\n",
              "      <td>3</td>\n",
              "      <td>2.73</td>\n",
              "      <td>3</td>\n",
              "      <td>False</td>\n",
              "    </tr>\n",
              "  </tbody>\n",
              "</table>\n",
              "</div>\n",
              "      <button class=\"colab-df-convert\" onclick=\"convertToInteractive('df-2f66b38a-e7e5-48c8-bf25-641071202950')\"\n",
              "              title=\"Convert this dataframe to an interactive table.\"\n",
              "              style=\"display:none;\">\n",
              "        \n",
              "  <svg xmlns=\"http://www.w3.org/2000/svg\" height=\"24px\"viewBox=\"0 0 24 24\"\n",
              "       width=\"24px\">\n",
              "    <path d=\"M0 0h24v24H0V0z\" fill=\"none\"/>\n",
              "    <path d=\"M18.56 5.44l.94 2.06.94-2.06 2.06-.94-2.06-.94-.94-2.06-.94 2.06-2.06.94zm-11 1L8.5 8.5l.94-2.06 2.06-.94-2.06-.94L8.5 2.5l-.94 2.06-2.06.94zm10 10l.94 2.06.94-2.06 2.06-.94-2.06-.94-.94-2.06-.94 2.06-2.06.94z\"/><path d=\"M17.41 7.96l-1.37-1.37c-.4-.4-.92-.59-1.43-.59-.52 0-1.04.2-1.43.59L10.3 9.45l-7.72 7.72c-.78.78-.78 2.05 0 2.83L4 21.41c.39.39.9.59 1.41.59.51 0 1.02-.2 1.41-.59l7.78-7.78 2.81-2.81c.8-.78.8-2.07 0-2.86zM5.41 20L4 18.59l7.72-7.72 1.47 1.35L5.41 20z\"/>\n",
              "  </svg>\n",
              "      </button>\n",
              "      \n",
              "  <style>\n",
              "    .colab-df-container {\n",
              "      display:flex;\n",
              "      flex-wrap:wrap;\n",
              "      gap: 12px;\n",
              "    }\n",
              "\n",
              "    .colab-df-convert {\n",
              "      background-color: #E8F0FE;\n",
              "      border: none;\n",
              "      border-radius: 50%;\n",
              "      cursor: pointer;\n",
              "      display: none;\n",
              "      fill: #1967D2;\n",
              "      height: 32px;\n",
              "      padding: 0 0 0 0;\n",
              "      width: 32px;\n",
              "    }\n",
              "\n",
              "    .colab-df-convert:hover {\n",
              "      background-color: #E2EBFA;\n",
              "      box-shadow: 0px 1px 2px rgba(60, 64, 67, 0.3), 0px 1px 3px 1px rgba(60, 64, 67, 0.15);\n",
              "      fill: #174EA6;\n",
              "    }\n",
              "\n",
              "    [theme=dark] .colab-df-convert {\n",
              "      background-color: #3B4455;\n",
              "      fill: #D2E3FC;\n",
              "    }\n",
              "\n",
              "    [theme=dark] .colab-df-convert:hover {\n",
              "      background-color: #434B5C;\n",
              "      box-shadow: 0px 1px 3px 1px rgba(0, 0, 0, 0.15);\n",
              "      filter: drop-shadow(0px 1px 2px rgba(0, 0, 0, 0.3));\n",
              "      fill: #FFFFFF;\n",
              "    }\n",
              "  </style>\n",
              "\n",
              "      <script>\n",
              "        const buttonEl =\n",
              "          document.querySelector('#df-2f66b38a-e7e5-48c8-bf25-641071202950 button.colab-df-convert');\n",
              "        buttonEl.style.display =\n",
              "          google.colab.kernel.accessAllowed ? 'block' : 'none';\n",
              "\n",
              "        async function convertToInteractive(key) {\n",
              "          const element = document.querySelector('#df-2f66b38a-e7e5-48c8-bf25-641071202950');\n",
              "          const dataTable =\n",
              "            await google.colab.kernel.invokeFunction('convertToInteractive',\n",
              "                                                     [key], {});\n",
              "          if (!dataTable) return;\n",
              "\n",
              "          const docLinkHtml = 'Like what you see? Visit the ' +\n",
              "            '<a target=\"_blank\" href=https://colab.research.google.com/notebooks/data_table.ipynb>data table notebook</a>'\n",
              "            + ' to learn more about interactive tables.';\n",
              "          element.innerHTML = '';\n",
              "          dataTable['output_type'] = 'display_data';\n",
              "          await google.colab.output.renderOutput(dataTable, element);\n",
              "          const docLink = document.createElement('div');\n",
              "          docLink.innerHTML = docLinkHtml;\n",
              "          element.appendChild(docLink);\n",
              "        }\n",
              "      </script>\n",
              "    </div>\n",
              "  </div>\n",
              "  "
            ]
          },
          "metadata": {},
          "execution_count": 2
        }
      ],
      "source": [
        "import pandas as pd\n",
        "dataset = pd.read_csv(\"data/telecom_churn.csv\")\n",
        "dataset.head()"
      ]
    },
    {
      "cell_type": "markdown",
      "id": "8bbc1a62",
      "metadata": {
        "id": "8bbc1a62"
      },
      "source": [
        "**For the *Voice mail plan* column, change the values from No/Yes to 0/1**"
      ]
    },
    {
      "cell_type": "code",
      "execution_count": 3,
      "id": "f78e866a",
      "metadata": {
        "id": "f78e866a"
      },
      "outputs": [],
      "source": [
        "d={\"Yes\":1, \"No\":0}\n",
        "dataset[\"Voice mail plan\"]=dataset[\"Voice mail plan\"].map(d)"
      ]
    },
    {
      "cell_type": "markdown",
      "id": "fb195719",
      "metadata": {
        "id": "fb195719"
      },
      "source": [
        "**Extract the X dataset from the dataframe, only by numerical features.**"
      ]
    },
    {
      "cell_type": "markdown",
      "id": "d2946e12",
      "metadata": {
        "id": "d2946e12"
      },
      "source": [
        "**The target characteristic is *Churn*.**"
      ]
    },
    {
      "cell_type": "code",
      "execution_count": 4,
      "id": "dac32b8b",
      "metadata": {
        "id": "dac32b8b"
      },
      "outputs": [],
      "source": [
        "features = [\"Voice mail plan\", \"Number vmail messages\", \"Total day minutes\", \"Total day calls\", \"Total eve minutes\", \"Total eve calls\", \"Total night minutes\", \"Total night calls\", \"Total intl minutes\", \"Total intl calls\", \"Customer service calls\"]\n",
        "X =dataset.drop([\"State\", \"International plan\", \"Churn\"], axis=1)\n",
        "y =dataset[\"Churn\"]"
      ]
    },
    {
      "cell_type": "markdown",
      "id": "72f83339",
      "metadata": {
        "id": "72f83339"
      },
      "source": [
        "**Imparte setul de date in: date si label de antrenare, date si labbel de test. Foloseste functia *train_test_split* din *sklearn*.**"
      ]
    },
    {
      "cell_type": "code",
      "execution_count": 5,
      "id": "326ab127",
      "metadata": {
        "id": "326ab127"
      },
      "outputs": [],
      "source": [
        "import numpy as np\n",
        "import pandas as pd\n",
        "import matplotlib.pyplot as plt\n",
        "import seaborn as sns\n",
        "\n",
        "from sklearn.metrics import accuracy_score\n",
        "from sklearn.model_selection import train_test_split\n",
        "\n",
        "from scipy.stats import mode\n",
        "X_train, X_test, Y_train, Y_test =train_test_split(X, y, test_size=0.3, random_state=42)"
      ]
    },
    {
      "cell_type": "markdown",
      "id": "f21b5681",
      "metadata": {
        "id": "f21b5681"
      },
      "source": [
        "**Import the KNearestClassifier model from sklearn. Train it with the *fit()* method and predict the Y values for X_test using the *predict()* method.**"
      ]
    },
    {
      "cell_type": "code",
      "execution_count": 6,
      "id": "ca2e5b2b",
      "metadata": {
        "id": "ca2e5b2b",
        "colab": {
          "base_uri": "https://localhost:8080/",
          "height": 282
        },
        "outputId": "f53e0ad4-8181-408a-9808-cfc0f535267d"
      },
      "outputs": [
        {
          "output_type": "stream",
          "name": "stdout",
          "text": [
            "Timpul de invatare a fost de:  8.550325870513916\n"
          ]
        },
        {
          "output_type": "display_data",
          "data": {
            "text/plain": [
              "<Figure size 432x288 with 1 Axes>"
            ],
            "image/png": "[encoded data removed]"
          },
          "metadata": {
            "needs_background": "light"
          }
        }
      ],
      "source": [
        "\n",
        "\n",
        "from sklearn.neighbors import KNeighborsClassifier\n",
        "import time\n",
        "\n",
        "start = time.time()\n",
        "\n",
        "accuracy_vals = []\n",
        "\n",
        "for k in range(1, 50):\n",
        "  knn_model = KNeighborsClassifier(n_neighbors=k)\n",
        "  knn_model.fit(X_train, Y_train)\n",
        "  y_hat = knn_model.predict(X_test)\n",
        "  accuracy_vals.append(accuracy_score(Y_test, y_hat) )\n",
        "\n",
        "\n",
        "plt.plot(range(1, len(accuracy_vals)+1 ), accuracy_vals, color='blue', marker='x', linestyle='dashed')\n",
        "\n",
        "end=time.time()\n",
        "\n",
        "print(\"The learning time is: \", end-start)\n"
      ]
    },
    {
      "cell_type": "markdown",
      "id": "00485693",
      "metadata": {
        "id": "00485693"
      },
      "source": [
        "**Specify the accuracy of the obtained model.** \n"
      ]
    },
    {
      "cell_type": "code",
      "execution_count": 7,
      "id": "c28472b1",
      "metadata": {
        "id": "c28472b1",
        "colab": {
          "base_uri": "https://localhost:8080/"
        },
        "outputId": "9dfdf6d4-55fa-492e-bee0-f238da5a0ca2"
      },
      "outputs": [
        {
          "output_type": "stream",
          "name": "stdout",
          "text": [
            "The accuracy of the model is: 0.881, for k=9\n"
          ]
        }
      ],
      "source": [
        "mx=0; ind=0;\n",
        "for i in range(0, len(accuracy_vals) ):\n",
        "  if accuracy_vals[i]>mx :\n",
        "    mx=accuracy_vals[i];\n",
        "    ind=i;\n",
        "\n",
        "print(f\"The accuracy of the model is: {mx}, for k={ind+1}\");\n"
      ]
    },
    {
      "cell_type": "markdown",
      "id": "eb0e3547",
      "metadata": {
        "id": "eb0e3547"
      },
      "source": [
        "## Using my own implementation of KNN algorithm, and applying it on the examined dataset."
      ]
    },
    {
      "cell_type": "code",
      "execution_count": 12,
      "id": "96d5a7f2",
      "metadata": {
        "id": "96d5a7f2",
        "colab": {
          "base_uri": "https://localhost:8080/",
          "height": 563
        },
        "outputId": "4e21960f-2646-4a13-c68e-3259497bf8a1"
      },
      "outputs": [
        {
          "output_type": "stream",
          "name": "stderr",
          "text": [
            "/usr/local/lib/python3.7/dist-packages/ipykernel_launcher.py:98: DeprecationWarning: In future, it will be an error for 'np.bool_' scalars to be interpreted as an index\n",
            "/usr/local/lib/python3.7/dist-packages/ipykernel_launcher.py:98: DeprecationWarning: In future, it will be an error for 'np.bool_' scalars to be interpreted as an index\n",
            "/usr/local/lib/python3.7/dist-packages/ipykernel_launcher.py:98: DeprecationWarning: In future, it will be an error for 'np.bool_' scalars to be interpreted as an index\n",
            "/usr/local/lib/python3.7/dist-packages/ipykernel_launcher.py:98: DeprecationWarning: In future, it will be an error for 'np.bool_' scalars to be interpreted as an index\n",
            "/usr/local/lib/python3.7/dist-packages/ipykernel_launcher.py:98: DeprecationWarning: In future, it will be an error for 'np.bool_' scalars to be interpreted as an index\n",
            "/usr/local/lib/python3.7/dist-packages/ipykernel_launcher.py:98: DeprecationWarning: In future, it will be an error for 'np.bool_' scalars to be interpreted as an index\n",
            "/usr/local/lib/python3.7/dist-packages/ipykernel_launcher.py:98: DeprecationWarning: In future, it will be an error for 'np.bool_' scalars to be interpreted as an index\n",
            "/usr/local/lib/python3.7/dist-packages/ipykernel_launcher.py:98: DeprecationWarning: In future, it will be an error for 'np.bool_' scalars to be interpreted as an index\n",
            "/usr/local/lib/python3.7/dist-packages/ipykernel_launcher.py:98: DeprecationWarning: In future, it will be an error for 'np.bool_' scalars to be interpreted as an index\n",
            "/usr/local/lib/python3.7/dist-packages/ipykernel_launcher.py:98: DeprecationWarning: In future, it will be an error for 'np.bool_' scalars to be interpreted as an index\n",
            "/usr/local/lib/python3.7/dist-packages/ipykernel_launcher.py:98: DeprecationWarning: In future, it will be an error for 'np.bool_' scalars to be interpreted as an index\n",
            "/usr/local/lib/python3.7/dist-packages/ipykernel_launcher.py:98: DeprecationWarning: In future, it will be an error for 'np.bool_' scalars to be interpreted as an index\n",
            "/usr/local/lib/python3.7/dist-packages/ipykernel_launcher.py:98: DeprecationWarning: In future, it will be an error for 'np.bool_' scalars to be interpreted as an index\n",
            "/usr/local/lib/python3.7/dist-packages/ipykernel_launcher.py:98: DeprecationWarning: In future, it will be an error for 'np.bool_' scalars to be interpreted as an index\n"
          ]
        },
        {
          "output_type": "stream",
          "name": "stdout",
          "text": [
            "The learning time is:  457.71831917762756\n",
            "The accuracy of the model is:0.881 for k=10 \n"
          ]
        },
        {
          "output_type": "display_data",
          "data": {
            "text/plain": [
              "<Figure size 432x288 with 1 Axes>"
            ],
            "image/png": "[encoded data removed]"
          },
          "metadata": {
            "needs_background": "light"
          }
        }
      ],
      "source": [
        "\n",
        "def euclidean_distance(point_a, point_b):\n",
        "    distance = np.linalg.norm(point_a - point_b)\n",
        "    return distance\n",
        "\n",
        "\n",
        "\n",
        "\n",
        "\n",
        "class Heap():\n",
        "    heap=[];\n",
        "    n=0;\n",
        "    def __init__(self):\n",
        "        self.n=1;\n",
        "        self.heap=[0];\n",
        "    \n",
        "    # Complexity: O(log(n) )\n",
        "    def insert(self, x):\n",
        "        self.heap.append(x);\n",
        "        self.n+=1;\n",
        "        cr=self.n-1;\n",
        "        while cr>1:\n",
        "            up=int(cr/2);\n",
        "            up1=self.heap[up]; cr1=self.heap[cr];\n",
        "            if up1<cr1:\n",
        "                self.heap[cr]=up1;\n",
        "                self.heap[up]=cr1;\n",
        "            else:\n",
        "                break;\n",
        "            cr=up;\n",
        "\n",
        "    #Complexity: O(log(n) )\n",
        "    def erase_root(self):\n",
        "  \n",
        "        \n",
        "        if self.n<2:\n",
        "            return ;\n",
        "\n",
        "        self.heap[1]=self.heap[self.n-1];\n",
        "        cr=1;\n",
        "        self.n-=1;\n",
        "        self.heap.pop();\n",
        "        lt=rt=lt1=rt1=cr1=-1;\n",
        "        while (cr*2+1)<self.n:\n",
        "            lt=cr*2; rt=cr*2+1;\n",
        "            lt1=self.heap[lt]; rt1=self.heap[rt];\n",
        "            cr1=self.heap[cr];\n",
        "            if (rt1>lt1) and (rt1>cr1):\n",
        "                self.heap[cr*2+1]=cr1;\n",
        "                self.heap[cr]=rt1;\n",
        "                cr=rt;\n",
        "            elif (  lt1>cr1  ):\n",
        "                self.heap[cr*2]=cr1;\n",
        "                self.heap[cr]=lt1;\n",
        "                cr=lt;\n",
        "            else:\n",
        "                break;\n",
        "      \n",
        "        if (cr*2<self.n) and (self.heap[cr*2]>self.heap[cr]):\n",
        "            temp=self.heap[cr*2];\n",
        "            self.heap[cr*2]=self.heap[cr];\n",
        "            self.heap[cr]=temp;\n",
        "            cr=cr*2;\n",
        "\n",
        "    #Complexity: O(1)\n",
        "    def get_max(self):\n",
        "        return self.heap[1];\n",
        "    \n",
        "    #Complexity: O(1)\n",
        "    def size(self):\n",
        "        return self.n;\n",
        "\n",
        "\n",
        "\n",
        "\n",
        "\n",
        "#Complexity of the knn_heap algorithm: O( (n^2)*log(k) )\n",
        "def knn_heap(X_test, X_train, Y_train, k):\n",
        "  y_hat=[]\n",
        "  \n",
        "  X_test_numpy=X_test.to_numpy();\n",
        "  X_train_numpy=X_train.to_numpy();\n",
        "  Y_train_numpy=Y_train.to_numpy();\n",
        "\n",
        "  for cr in X_test_numpy:\n",
        "    cnt=[0, 0]\n",
        "    h=Heap();\n",
        "\n",
        "    for i in range(0, k):\n",
        "      h.insert( (euclidean_distance(X_train_numpy[i], cr), i) );\n",
        "\n",
        "    for i in range(k, len(X_train_numpy) ):\n",
        "      h.erase_root();\n",
        "      h.insert( (euclidean_distance(X_train_numpy[i], cr), i)  );\n",
        "\n",
        "\n",
        "    for i in range(k):\n",
        "      cnt[Y_train_numpy[ h.get_max()[1] ] ]+=1;\n",
        "      h.erase_root();\n",
        "    \n",
        "    if cnt[0]>cnt[1]:\n",
        "      y_hat.append(0)\n",
        "    else:\n",
        "      y_hat.append(1)\n",
        "   \n",
        "  \n",
        "  return y_hat\n",
        "\n",
        "\n",
        "\n",
        "\n",
        "\n",
        "\n",
        "start=time.time();\n",
        "\n",
        "mx=0; ind=0;\n",
        "\n",
        "accuracy_vals=[];\n",
        "\n",
        "for k in range(1, 15):\n",
        "  y_hat = knn_heap(X_test, X_train, Y_train, k)\n",
        "  accuracy_vals.append(accuracy_score(Y_test, y_hat) )\n",
        "  if( accuracy_vals[-1]>mx ):\n",
        "    mx=accuracy_vals[-1]; ind=k;\n",
        "\n",
        "\n",
        "plt.plot(range(1, len(accuracy_vals)+1 ), accuracy_vals, color='blue', marker='x', linestyle='dashed')\n",
        "\n",
        "end=time.time()\n",
        "\n",
        "print(\"The learning time is: \", end-start)\n",
        "print(f\"The accuracy of the model is:{mx} for k={ind} \")\n",
        "\n",
        "\n",
        "\n",
        "\n",
        "\n",
        "\n"
      ]
    },
    {
      "cell_type": "code",
      "source": [
        ""
      ],
      "metadata": {
        "id": "tBCuy8f-2YiM"
      },
      "id": "tBCuy8f-2YiM",
      "execution_count": null,
      "outputs": []
    }
  ],
  "metadata": {
    "kernelspec": {
      "display_name": "Python 3 (ipykernel)",
      "language": "python",
      "name": "python3"
    },
    "language_info": {
      "codemirror_mode": {
        "name": "ipython",
        "version": 3
      },
      "file_extension": ".py",
      "mimetype": "text/x-python",
      "name": "python",
      "nbconvert_exporter": "python",
      "pygments_lexer": "ipython3",
      "version": "3.9.7"
    },
    "colab": {
      "name": "Applying KNN on a Telecom dataset.ipynb",
      "provenance": [],
      "collapsed_sections": [],
      "include_colab_link": true
    }
  },
  "nbformat": 4,
  "nbformat_minor": 5
}